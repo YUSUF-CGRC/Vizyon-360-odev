{
  "nbformat": 4,
  "nbformat_minor": 0,
  "metadata": {
    "colab": {
      "provenance": []
    },
    "kernelspec": {
      "name": "python3",
      "display_name": "Python 3"
    },
    "language_info": {
      "name": "python"
    }
  },
  "cells": [
    {
      "cell_type": "markdown",
      "source": [
        "Asal sayı --- Sayı Tahmin etme -- Film veri tabanı"
      ],
      "metadata": {
        "id": "T5wWdPNxpKH9"
      }
    },
    {
      "cell_type": "code",
      "execution_count": null,
      "metadata": {
        "id": "DY4rnC6GpJVB"
      },
      "outputs": [],
      "source": [
        "number = int(input(\"Sayı gir\"))\n",
        "primes = []\n",
        "i = 2\n",
        "\n",
        "while i < number:\n",
        "    isPrime = True\n",
        "    for j in range(2, i):\n",
        "        if i % j == 0:\n",
        "            isPrime = False\n",
        "            break\n",
        "\n",
        "    if isPrime:\n",
        "        primes.append(i)\n",
        "\n",
        "    i += 1\n",
        "\n",
        "print(primes)"
      ]
    },
    {
      "cell_type": "code",
      "source": [
        "import random\n",
        "\n",
        "sayi = random.randint(0,100)\n",
        "\n",
        "print(\"0 ile 100 arasında bir sayı tuttum hadi tahmin et bakalım\")\n",
        "12\n",
        "\n",
        "while True :\n",
        "  tahmin = input(\"Tahminini gir :\")\n",
        "  tahmin = int(tahmin)\n",
        "\n",
        "  if (tahmin) < 0  or (tahmin) > 100 :\n",
        "      print(\"Değer aralığında bir sayı girin\")\n",
        "\n",
        "\n",
        "  elif (tahmin) == sayi :\n",
        "      print(\"Tahmininiz doğru !\")\n",
        "      break\n",
        "  elif (tahmin) < sayi :\n",
        "      print(\"tahmininiz küçük\")\n",
        "\n",
        "  elif (tahmin) > sayi :\n",
        "      print(\"tahmininiz büyük\")\n"
      ],
      "metadata": {
        "colab": {
          "base_uri": "https://localhost:8080/"
        },
        "id": "sUb2hqGXrpja",
        "outputId": "5792ba7d-40ff-432f-f53a-be00aedd4e86"
      },
      "execution_count": null,
      "outputs": [
        {
          "output_type": "stream",
          "name": "stdout",
          "text": [
            "0 ile 100 arasında bir sayı tuttum hadi tahmin et bakalım\n",
            "Tahminini gir :50\n",
            "tahmininiz büyük\n",
            "Tahminini gir :25\n",
            "tahmininiz küçük\n",
            "Tahminini gir :37\n",
            "tahmininiz büyük\n",
            "Tahminini gir :30\n",
            "tahmininiz büyük\n",
            "Tahminini gir :27\n",
            "tahmininiz büyük\n",
            "Tahminini gir :26\n",
            "Tahmininiz doğru !\n"
          ]
        }
      ]
    },
    {
      "cell_type": "code",
      "source": [
        "filmler = {\n",
        "    \"The Shawshank Redemption\": {\n",
        "        \"kategori\": \"Drama\",\n",
        "        \"yıl\": 1994,\n",
        "        \"aktör\": [\"Tim Robbins\", \"Morgan Freeman\"],\n",
        "        \"yönetmen\": \"Frank Darabont\",\n",
        "    },\n",
        "\n",
        "    \"The Godfather\": {\n",
        "        \"kategori\": \"Crime\",\n",
        "        \"yıl\": 1972,\n",
        "        \"aktör\": [\"Marlon Brando\", \"Al Pacino\"],\n",
        "        \"yönetmen\": \"Francis Ford Coppola\",\n",
        "    },\n",
        "\n",
        "    \"Pulp Fiction\": {\n",
        "        \"kategori\": \"Crime\",\n",
        "        \"yıl\": 1994,\n",
        "        \"aktör\": [\"John Travolta\", \"Samuel L. Jackson\"],\n",
        "        \"yönetmen\": \"Quentin Tarantino\",\n",
        "    },\n",
        "\n",
        "    \"The Dark Knight\": {\n",
        "        \"kategori\": \"Action\",\n",
        "        \"yıl\": 2008,\n",
        "        \"aktör\": [\"Christian Bale\", \"Heath Ledger\"],\n",
        "        \"yönetmen\": \"Christopher Nolan\",\n",
        "    },\n",
        "\n",
        "    \"Inception\": {\n",
        "        \"kategori\": \"Sci-Fi\",\n",
        "        \"yıl\": 2010,\n",
        "        \"aktör\": [\"Leonardo DiCaprio\", \"Joseph Gordon-Levitt\"],\n",
        "        \"yönetmen\": \"Christopher Nolan\",\n",
        "    },\n",
        "\n",
        "    \"Forrest Gump\": {\n",
        "        \"kategori\": \"Drama\",\n",
        "        \"yıl\": 1994,\n",
        "        \"aktör\": [\"Tom Hanks\", \"Robin Wright\"],\n",
        "        \"yönetmen\": \"Robert Zemeckis\",\n",
        "    },\n",
        "\n",
        "    \"The Matrix\": {\n",
        "        \"kategori\": \"Sci-Fi\",\n",
        "        \"yıl\": 1999,\n",
        "        \"aktör\": [\"Keanu Reeves\", \"Laurence Fishburne\"],\n",
        "        \"yönetmen\": \"The Wachowskis\",\n",
        "    },\n",
        "\n",
        "    \"Schindler's List\": {\n",
        "        \"kategori\": \"Biography\",\n",
        "        \"yıl\": 1993,\n",
        "        \"aktör\": [\"Liam Neeson\", \"Ben Kingsley\"],\n",
        "        \"yönetmen\": \"Steven Spielberg\",\n",
        "    },\n",
        "}"
      ],
      "metadata": {
        "id": "LxvknQa6r_Yr"
      },
      "execution_count": null,
      "outputs": []
    },
    {
      "cell_type": "markdown",
      "source": [
        "Yusuf Ciğerci"
      ],
      "metadata": {
        "id": "yZTDcv7Gsf4x"
      }
    }
  ]
}