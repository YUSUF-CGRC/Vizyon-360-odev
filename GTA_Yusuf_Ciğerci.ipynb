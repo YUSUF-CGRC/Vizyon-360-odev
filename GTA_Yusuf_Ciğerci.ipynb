{
  "nbformat": 4,
  "nbformat_minor": 0,
  "metadata": {
    "colab": {
      "provenance": []
    },
    "kernelspec": {
      "name": "python3",
      "display_name": "Python 3"
    },
    "language_info": {
      "name": "python"
    }
  },
  "cells": [
    {
      "cell_type": "markdown",
      "source": [
        "\n",
        "Kullanıcı kayıt sistemi"
      ],
      "metadata": {
        "id": "mhdk3gXYobdb"
      }
    },
    {
      "cell_type": "code",
      "execution_count": 1,
      "metadata": {
        "id": "T-01Zm9gYLN_"
      },
      "outputs": [],
      "source": [
        "kullanıcı_data = {}\n",
        "\n",
        "\n",
        "def kullanıcı_ekle(email, password):\n",
        "    kullanıcı_data[email] = password\n",
        "\n",
        "\n",
        "\n",
        "def sifre_degis(email, new_password):\n",
        "\n",
        "    if email in kullanıcı_data:\n",
        "\n",
        "        kullanıcı_data[email] = new_password\n",
        "        print(f\"{email}'li kullanıcının şifresi değiştirildi -> {new_password}\")\n",
        "    else:\n",
        "        print(\"Gmail daha önce kayıt yapmadı\")\n",
        "\n",
        "\n",
        "# kullanıcı ekleme\n",
        "#kullanıcı_ekle(\"maturyusuf@gmail.com\", \"ciğerci\")\n",
        "# şifre değişme\n",
        "#sifre_degis(\"maturyusuf@gmail.com\", \"yc\")"
      ]
    },
    {
      "cell_type": "markdown",
      "source": [
        "Kullanıcı özellik oluşturma\n"
      ],
      "metadata": {
        "id": "5eb7cazRoYk7"
      }
    },
    {
      "cell_type": "code",
      "source": [
        "\n",
        "def get_input(soru, seçenek):\n",
        "    while True:\n",
        "        user_input = input(seçenek)\n",
        "        if user_input in seçenek:\n",
        "            return user_input\n",
        "        else:\n",
        "            print(\"Lütfen geçerli bir seçim yapınız.\")\n",
        "#Enveri yukardaki gibi kazıkladım\n",
        "\n",
        "print(\"Karakter oluşturma ekranına hoşgeldiniz\")\n",
        "print(f\"Lütfen aşağıdaki soruları cevaplayınız\")\n",
        "print(f\"Lütfen verilen değerlerin dışına çıkmayınız :)\")\n",
        "\n",
        "print(f\"Kullanıcı isminizi giriniz\")\n",
        "isim = input(\"?\")\n",
        "\n",
        "\n",
        "\n",
        "print(f\"sarı\", \"siyah\", \"pembe\", \"kumral\",\"mor\")\n",
        "saç_renk = get_input(\"Lütfen saç rengini seçiniz: \", [\"sarı\", \"siyah\", \"pembe\", \"kumral\"])\n",
        "\n",
        "print(f\"sarı\", \"siyah\", \"pembe\", \"kumral\")\n",
        "sakal_renk = get_input(\"Lütfen sakal rengini seçiniz: \", [\"sarı\", \"siyah\", \"pembe\", \"kumral\"])\n",
        "\n",
        "print(f\"uzun sakal\", \"kirli sakal\", \"sakalsız\", \"kıvırcık\")\n",
        "saç_tipi = get_input(\"Lütfen saç tipini seçiniz: \", [\"uzun sakal\", \"kirli sakal\", \"sakalsız\", \"kıvırcık\"])\n",
        "\n",
        "print(f\"Uzun\", \"Orta\", \"Kısa\")\n",
        "sakal_uzunluğu = get_input(\"Lütfen sakal uzunluğunu seçiniz: \", [\"Uzun\", \"Orta\", \"Kısa\"])\n",
        "\n",
        "print(f\"Sportif\", \"Esnek\", \"Uzaylı\", \"Zargana\", \"Obez\")\n",
        "vücut_tipi = get_input(\"Lütfen vücut tipini seçiniz: \", [\"Sportif\", \"Esnek\", \"Uzaylı\", \"Zargana\", \"Obez\"])\n",
        "\n",
        "print(f\"sarı\", \"siyah\", \"pembe\", \"kumral\")\n",
        "ten_renk = get_input(\"Lütfen ten rengini seçiniz: \", [\"sarı\", \"siyah\", \"pembe\", \"kumral\"])\n",
        "\n",
        "print(f\"Mavi\", \"Yeşil\", \"Ela\")\n",
        "göz_renk = get_input(\"Lütfen göz rengini seçiniz: \", [\"Mavi\", \"Yeşil\", \"Ela\"])\n",
        "\n",
        "print(f\"Esmer\", \"Beyaz\", \"Kumral\")\n",
        "sınıf = get_input(\"Lütfen sınıfınızı seçiniz: \", [\"Esmer\", \"Beyaz\", \"Kumral\"])\n",
        "\n",
        "boy = int(input(\"Boy Giriniz: \"))\n",
        "\n",
        "kilosu = int(input(\"Kilo giriniz: \"))\n",
        "\n",
        "\n",
        "kullanici_karakter = (isim,saç_renk, sakal_renk, saç_tipi, sakal_uzunluğu, boy, kilosu, vücut_tipi, ten_renk, göz_renk, sınıf)\n",
        "\n",
        "\n",
        "print (kullanici_karakter)\n",
        "\n",
        "\n",
        "def özellik():\n",
        "  print(\"kullanici_karakter\")\n",
        "  return"
      ],
      "metadata": {
        "colab": {
          "base_uri": "https://localhost:8080/"
        },
        "id": "kIhibkoEZPj5",
        "outputId": "cd308a64-ac6f-4171-999e-2f32e00fc7fe"
      },
      "execution_count": 4,
      "outputs": [
        {
          "output_type": "stream",
          "name": "stdout",
          "text": [
            "Karakter oluşturma ekranına hoşgeldiniz\n",
            "Lütfen aşağıdaki soruları cevaplayınız\n",
            "Lütfen verilen değerlerin dışına çıkmayınız :)\n",
            "Kullanıcı isminizi giriniz\n",
            "?Yusuf\n",
            "sarı siyah pembe kumral mor\n",
            "['sarı', 'siyah', 'pembe', 'kumral']mor\n",
            "Lütfen geçerli bir seçim yapınız.\n",
            "['sarı', 'siyah', 'pembe', 'kumral']pembe\n",
            "sarı siyah pembe kumral\n",
            "['sarı', 'siyah', 'pembe', 'kumral']kumral\n",
            "uzun sakal kirli sakal sakalsız kıvırcık\n",
            "['uzun sakal', 'kirli sakal', 'sakalsız', 'kıvırcık']kıvırcık\n",
            "Uzun Orta Kısa\n",
            "['Uzun', 'Orta', 'Kısa']Kısa\n",
            "Sportif Esnek Uzaylı Zargana Obez\n",
            "['Sportif', 'Esnek', 'Uzaylı', 'Zargana', 'Obez']Obez\n",
            "sarı siyah pembe kumral\n",
            "['sarı', 'siyah', 'pembe', 'kumral']kumral\n",
            "Mavi Yeşil Ela\n",
            "['Mavi', 'Yeşil', 'Ela']Ela\n",
            "Esmer Beyaz Kumral\n",
            "['Esmer', 'Beyaz', 'Kumral']Beyaz\n",
            "Boy Giriniz: 170\n",
            "Kilo giriniz: 66\n",
            "('Yusuf', 'pembe', 'kumral', 'kıvırcık', 'Kısa', 170, 66, 'Obez', 'kumral', 'Ela', 'Beyaz')\n"
          ]
        }
      ]
    }
  ]
}